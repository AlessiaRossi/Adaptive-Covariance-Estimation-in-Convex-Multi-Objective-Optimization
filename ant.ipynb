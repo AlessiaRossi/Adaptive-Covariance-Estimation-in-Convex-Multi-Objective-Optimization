{
 "cells": [
  {
   "cell_type": "markdown",
   "id": "6e884570",
   "metadata": {},
   "source": [
    "# Introduction to the Algorithm\n",
    "\n",
    "This algorithm combines Ant Colony Optimization (ACO) with Active Learning (AL) to efficiently select a subset of candidates that best approximate a global covariance matrix, while minimizing computational costs. The process is structured as follows:\n",
    "\n",
    "1. **Initial Exploration with ACO**:  \n",
    "    Candidate selection is guided by two factors:  \n",
    "    - **Pheromone (τ(λ))**: Encourages exploitation by favoring choices that have previously shown promise.\n",
    "    - **Heuristic (η(λ))**: Drives exploration by estimating the variability using a surrogate model S(λ), indicating how much the solution could change in that region.\n",
    "    The sampling probability for each candidate λ is proportional to τ(λ)^α ⋅ η(λ)^β, where α and β balance exploitation and exploration. A population of n_ants candidates is sampled according to this distribution.\n",
    "\n",
    "2. **Rapid Candidate Filtering**:  \n",
    "    For each sampled candidate λ_k, the surrogate quickly recalculates η(λ_k) = S(λ_k), updating the heuristic. A top-k selection is then performed to retain only the k candidates with the highest η(λ_k), focusing computational resources on the most promising options.\n",
    "\n",
    "3. **Approximation of Error Reduction (Δ_k)**:  \n",
    "    For each top-k candidate, the potential reduction in covariance error is estimated as:  \n",
    "    Δ_k ≈ ||C_ref − C_e(Selected ∪ {λ_k})||_F − ||C_ref − C_e(Selected)||_F  \n",
    "    This quantifies the improvement in global covariance accuracy if λ_k is added to the Selected set. The surrogate is used to estimate this difference, avoiding expensive exact evaluations.\n",
    "\n",
    "4. **Exact Evaluation and Update**:  \n",
    "    Only for the most promising top-k candidates is the exact value ||C(λ_k)|| computed. Pheromone values τ(λ_k) are updated based on these results, reinforcing the likelihood of selecting λ_k in future iterations. Selected candidates are added to the Selected set, and the surrogate model S(λ) is periodically retrained to maintain heuristic accuracy.\n",
    "\n",
    "5. **Continuous Feedback between ACO and Active Learning**:  \n",
    "    Each iteration integrates exploration (ACO) and learning (AL) in a feedback loop. The error ||C_ref − C_e|| progressively decreases as the Selected set is iteratively improved, creating a dynamic balance between speed (surrogate) and accuracy (exact evaluations).\n",
    "\n",
    "6. **Final Outcome**:  \n",
    "    At the end of the process, a Selected set of size m ≪ N is obtained, which closely approximates the global covariance matrix C. This approach drastically reduces computational costs while maintaining high estimation quality.§"
   ]
  },
  {
   "cell_type": "code",
   "execution_count": null,
   "id": "98c62fc0",
   "metadata": {
    "vscode": {
     "languageId": "markdown"
    }
   },
   "outputs": [],
   "source": []
  },
  {
   "cell_type": "code",
   "execution_count": null,
   "id": "4bb2f3bb",
   "metadata": {},
   "outputs": [],
   "source": [
    "# Inizializzazione delle variabili\n",
    "# τ(λ): dizionario dei feromoni per ogni candidato λ in Λ\n",
    "tau = {lmbda: 1.0 for lmbda in Lambda}\n",
    "\n",
    "# η(λ): dizionario delle euristiche calcolate tramite il surrogato S(λ)\n",
    "eta = {lmbda: S(lmbda) for lmbda in Lambda}\n",
    "\n",
    "# Selected: insieme dei candidati selezionati\n",
    "Selected = set()\n",
    "\n",
    "# C_e: matrice di covarianza stimata (inizialmente indefinita)\n",
    "C_e = None\n",
    "\n",
    "# val_count: conteggio delle valutazioni esatte\n",
    "val_count = 0"
   ]
  },
  {
   "cell_type": "code",
   "execution_count": null,
   "id": "7de0b214",
   "metadata": {
    "vscode": {
     "languageId": "r"
    }
   },
   "outputs": [],
   "source": [
    "while val_count < budget:\n",
    "    # Calcola errore corrente\n",
    "    if C_e is not None:\n",
    "        errore = np.linalg.norm(C_ref - C_e, ord='fro')\n",
    "        if errore < epsilon:\n",
    "            break\n",
    "    else:\n",
    "        errore = float('inf')\n",
    "\n",
    "    # 1. Campionamento candidati con ACO\n",
    "    prob = np.array([tau[lmbda]**alpha * eta[lmbda]**beta for lmbda in Lambda])\n",
    "    prob = prob / prob.sum()\n",
    "    candidates = np.random.choice(list(Lambda), size=n_ants, replace=False, p=prob)\n",
    "    \n",
    "    # 2. Ricalcola η(λ) per candidati usando il surrogato\n",
    "    for lmbda in candidates:\n",
    "        eta[lmbda] = S(lmbda)\n",
    "    \n",
    "    # 3. Calcola Δ_k per ogni candidato (stima riduzione errore)\n",
    "    delta = {}\n",
    "    for lmbda in candidates:\n",
    "        # Stima C_e(Selected ∪ {lmbda}) tramite surrogato\n",
    "        C_e_new = surrogate_covariance(Selected | {lmbda})\n",
    "        delta[lmbda] = np.linalg.norm(C_ref - C_e_new, ord='fro') - \\\n",
    "                       (np.linalg.norm(C_ref - C_e, ord='fro') if C_e is not None else 0)\n",
    "    \n",
    "    # 4. Selezione top-k candidati da valutare esattamente\n",
    "    scores = {lmbda: omega * delta[lmbda] + (1 - omega) * eta[lmbda] for lmbda in candidates}\n",
    "    top_candidates = sorted(scores, key=scores.get, reverse=True)[:top_k]\n",
    "    \n",
    "    # 5. Valutazione esatta e aggiornamento\n",
    "    for lmbda in top_candidates:\n",
    "        x_star = exact_evaluation(lmbda)\n",
    "        C_lmbda = compute_covariance(x_star)\n",
    "        Selected.add(lmbda)\n",
    "        C_e = empirical_covariance(Selected)\n",
    "        tau[lmbda] += np.linalg.norm(C_lmbda)\n",
    "        eta[lmbda] = np.linalg.norm(C_lmbda)\n",
    "        val_count += 1\n",
    "    \n",
    "    # 6. Retraining surrogato\n",
    "    if val_count % retrain_threshold == 0:\n",
    "        S = retrain_surrogate(Selected, archive)"
   ]
  },
  {
   "cell_type": "code",
   "execution_count": null,
   "id": "f594d8b2",
   "metadata": {},
   "outputs": [],
   "source": []
  },
  {
   "cell_type": "markdown",
   "id": "e27ee4ce",
   "metadata": {},
   "source": []
  },
  {
   "cell_type": "code",
   "execution_count": null,
   "id": "0387b60a",
   "metadata": {
    "vscode": {
     "languageId": "markdown"
    }
   },
   "outputs": [],
   "source": []
  }
 ],
 "metadata": {
  "kernelspec": {
   "display_name": ".venv",
   "language": "python",
   "name": "python3"
  },
  "language_info": {
   "codemirror_mode": {
    "name": "ipython",
    "version": 3
   },
   "file_extension": ".py",
   "mimetype": "text/x-python",
   "name": "python",
   "nbconvert_exporter": "python",
   "pygments_lexer": "ipython3",
   "version": "3.10.11"
  }
 },
 "nbformat": 4,
 "nbformat_minor": 5
}
